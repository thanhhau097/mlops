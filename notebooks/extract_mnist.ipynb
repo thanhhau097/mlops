{
 "cells": [
  {
   "cell_type": "code",
   "execution_count": 20,
   "source": [
    "import gzip\n",
    "import numpy as np\n",
    "\n",
    "def extract_images(path, num_images):\n",
    "    \"\"\"Extract the images into a 4D uint8 numpy array [index, y, x, depth].\"\"\"\n",
    "    # Get the data.\n",
    "    with gzip.open(path, 'rb') as f:\n",
    "        train_images = np.frombuffer(f.read(), dtype=np.uint8, offset=16)\n",
    "        train_images = train_images.reshape(num_images, 28, 28)\n",
    "    return train_images\n",
    "\n",
    "def extract_labels(path):\n",
    "    \"\"\"Extract the labels into a 1D uint8 numpy array [index].\"\"\"\n",
    "    # Get the data.\n",
    "    with gzip.open(path, 'rb') as f:\n",
    "        train_labels = np.frombuffer(f.read(), dtype=np.uint8, offset=8)\n",
    "    return train_labels\n",
    "\n",
    "train_images = extract_images('../data/train-images-idx3-ubyte.gz', 60000)\n",
    "train_labels = extract_labels('../data/train-labels-idx1-ubyte.gz')\n",
    "\n",
    "test_images = extract_images('../data/t10k-images-idx3-ubyte.gz', 10000)\n",
    "test_labels = extract_labels('../data/t10k-labels-idx1-ubyte.gz')"
   ],
   "outputs": [],
   "metadata": {}
  },
  {
   "cell_type": "code",
   "execution_count": 30,
   "source": [
    "import os\n",
    "import cv2\n",
    "import random\n",
    "\n",
    "save_folder = '../data/mnist'\n",
    "\n",
    "train_indices = random.sample(range(len(train_labels)), 50000)\n",
    "val_indices = set(range(60000)).difference(set(train_indices))"
   ],
   "outputs": [],
   "metadata": {}
  },
  {
   "cell_type": "code",
   "execution_count": 32,
   "source": [
    "from tqdm import tqdm\n",
    "\n",
    "for i in tqdm(train_indices):\n",
    "    image, label = train_images[i], train_labels[i]\n",
    "    label_folder = os.path.join(save_folder, 'train', str(label))\n",
    "    if not os.path.exists(label_folder):\n",
    "        os.makedirs(label_folder, exist_ok=True)\n",
    "\n",
    "    cv2.imwrite(os.path.join(label_folder, str(i) + '.png'), image)"
   ],
   "outputs": [
    {
     "output_type": "stream",
     "name": "stderr",
     "text": [
      "100%|██████████| 50000/50000 [00:03<00:00, 15348.37it/s]\n"
     ]
    }
   ],
   "metadata": {}
  },
  {
   "cell_type": "code",
   "execution_count": 33,
   "source": [
    "for i in tqdm(val_indices):\n",
    "    image, label = train_images[i], train_labels[i]\n",
    "    label_folder = os.path.join(save_folder, 'val', str(label))\n",
    "    if not os.path.exists(label_folder):\n",
    "        os.makedirs(label_folder, exist_ok=True)\n",
    "\n",
    "    cv2.imwrite(os.path.join(label_folder, str(i) + '.png'), image)"
   ],
   "outputs": [
    {
     "output_type": "stream",
     "name": "stderr",
     "text": [
      "100%|██████████| 10000/10000 [00:00<00:00, 16257.29it/s]\n"
     ]
    }
   ],
   "metadata": {}
  },
  {
   "cell_type": "code",
   "execution_count": 36,
   "source": [
    "for i in tqdm(range(10000)):\n",
    "    image, label = test_images[i], test_labels[i]\n",
    "    label_folder = os.path.join(save_folder, 'test', str(label))\n",
    "    if not os.path.exists(label_folder):\n",
    "        os.makedirs(label_folder, exist_ok=True)\n",
    "\n",
    "    cv2.imwrite(os.path.join(label_folder, str(i) + '.png'), image)"
   ],
   "outputs": [
    {
     "output_type": "stream",
     "name": "stderr",
     "text": [
      "100%|██████████| 10000/10000 [00:00<00:00, 18274.03it/s]\n"
     ]
    }
   ],
   "metadata": {}
  },
  {
   "cell_type": "code",
   "execution_count": 37,
   "source": [],
   "outputs": [
    {
     "output_type": "stream",
     "name": "stderr",
     "text": [
      "usage: ipykernel_launcher.py [-h] [--batch-size N] [--test-batch-size N]\n",
      "                             [--epochs N] [--lr LR] [--gamma M] [--no-cuda]\n",
      "                             [--dry-run] [--seed S] [--log-interval N]\n",
      "                             [--save-model]\n",
      "ipykernel_launcher.py: error: unrecognized arguments: --ip=127.0.0.1 --stdin=9003 --control=9001 --hb=9000 --Session.signature_scheme=\"hmac-sha256\" --Session.key=b\"a720d07c-e4e8-4e74-b3d9-373221998bd7\" --shell=9002 --transport=\"tcp\" --iopub=9004 --f=/tmp/tmp-188109JcTtrW7SOdmT.json\n"
     ]
    },
    {
     "output_type": "error",
     "ename": "SystemExit",
     "evalue": "2",
     "traceback": [
      "An exception has occurred, use %tb to see the full traceback.\n",
      "\u001b[0;31mSystemExit\u001b[0m\u001b[0;31m:\u001b[0m 2\n"
     ]
    },
    {
     "output_type": "stream",
     "name": "stderr",
     "text": [
      "/home/lionel/Desktop/MLE/mlops/env/lib/python3.8/site-packages/IPython/core/interactiveshell.py:3449: UserWarning: To exit: use 'exit', 'quit', or Ctrl-D.\n",
      "  warn(\"To exit: use 'exit', 'quit', or Ctrl-D.\", stacklevel=1)\n"
     ]
    }
   ],
   "metadata": {}
  },
  {
   "cell_type": "code",
   "execution_count": null,
   "source": [],
   "outputs": [],
   "metadata": {}
  }
 ],
 "metadata": {
  "orig_nbformat": 4,
  "language_info": {
   "name": "python",
   "version": "3.8.10",
   "mimetype": "text/x-python",
   "codemirror_mode": {
    "name": "ipython",
    "version": 3
   },
   "pygments_lexer": "ipython3",
   "nbconvert_exporter": "python",
   "file_extension": ".py"
  },
  "kernelspec": {
   "name": "python3",
   "display_name": "Python 3.8.10 64-bit ('env': venv)"
  },
  "interpreter": {
   "hash": "5e1e7ecd2bb7598ac85299c84896e7c103e65d11cf60bf11739e8895ef0001a9"
  }
 },
 "nbformat": 4,
 "nbformat_minor": 2
}